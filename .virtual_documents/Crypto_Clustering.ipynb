# Import required libraries and dependencies
import pandas as pd
import hvplot.pandas
from sklearn.cluster import KMeans
from sklearn.decomposition import PCA
from sklearn.preprocessing import StandardScaler


# Load the data into a Pandas DataFrame
df_market_data = pd.read_csv(
    "Resources/crypto_market_data.csv",
    index_col="coin_id")

# Display sample data
df_market_data.head(10)


# Generate summary statistics
df_market_data.describe()


# Plot your data to see what's in your DataFrame
df_market_data.hvplot.line(
    width=800,
    height=400,
    rot=90
)








# Use the `StandardScaler()` module from scikit-learn to normalize the data from the CSV file
scaler = StandardScaler()
df_market_data_scaled = scaler.fit_transform(df_market_data)


# Create a DataFrame with the scaled data
df_market_data_scaled = pd.DataFrame(df_market_data_scaled, columns=df_market_data.columns, index=df_market_data.index)

# Copy the crypto names from the original data
crypto_names = df_market_data.index

# Set the coinid column as index
df_market_data_scaled.index = crypto_names

# Display sample data
df_market_data_scaled.head()








# Create a list with the number of k-values from 1 to 11
k_values = list(range(1, 12))


# Create an empty list to store the inertia values
inertia_values = []

# Create a for loop to compute the inertia with each possible value of k
# Inside the loop:
# 1. Create a KMeans model using the loop counter for the n_clusters
# 2. Fit the model to the data using `df_market_data_scaled`
# 3. Append the model.inertia_ to the inertia list
for k in k_values:
    kmeans = KMeans(n_clusters=k, random_state=0)
    kmeans.fit(df_market_data_scaled)
    inertia_values.append(kmeans.inertia_)


# Create a dictionary with the data to plot the Elbow curve
elbow_data = {'k': k_values, 'inertia': inertia_values}

# Create a DataFrame with the data to plot the Elbow curve
df_elbow = pd.DataFrame(elbow_data)


# Plot a line chart with all the inertia values computed with 
# the different values of k to visually identify the optimal value for k.
df_elbow.hvplot.line(
    x='k', y='inertia', 
    title='Elbow Curve', 
    xticks=k_values)












# Initialise the K-Means model using the best value for k
best_k = 4
kmeans = KMeans(n_clusters=best_k, random_state=0)


# Fit the K-Means model using the scaled data
kmeans.fit(df_market_data_scaled)


# Predict the clusters to group the cryptocurrencies using the scaled data
clusters = kmeans.predict(df_market_data_scaled)

# Print the resulting array of cluster values.
print(clusters)


# Create a copy of the DataFrame
df_clustered = df_market_data.copy()


# Add a new column to the DataFrame with the predicted clusters
df_clustered['cluster'] = clusters

# Display sample data
df_clustered.head()


# Create a scatter plot using hvPlot by setting 
# `x="price_change_percentage_24h"` and `y="price_change_percentage_7d"`. 
# Colour the graph points with the labels found using K-Means and 
# add the crypto name in the `hover_cols` parameter to identify 
# the cryptocurrency represented by each data point.
df_clustered.hvplot.scatter(
    x='price_change_percentage_24h',
    y='price_change_percentage_7d',
    by='cluster',
    hover_cols=['coin_id'],
    title='Cryptocurrency Clusters'
)









# Create a PCA model instance and set `n_components=3`.
pca = PCA(n_components=3)


# Use the PCA model with `fit_transform` to reduce to 
# three principal components.
pca_data = pca.fit_transform(df_market_data_scaled)

#A dataframe with the pca data
df_pca = pd.DataFrame(pca_data, columns=['PC1', 'PC2', 'PC3'], index=df_market_data.index)

# View the first five rows of the DataFrame. 
df_pca.head()


# Retrieve the explained variance to determine how much information 
# can be attributed to each principal component.
explained_variance = pca.explained_variance_ratio_
print(f"Explained Variance: {explained_variance}")
total_explained_variance = explained_variance.sum()
print(f"Total Explained Variance: {total_explained_variance}")





# Create a new DataFrame with the PCA data.
pca = PCA(n_components=3)

# Creating a DataFrame with the PCA data
df_market_data_pca = pca.fit_transform(df_market_data_scaled)
df_market_data_pca = pd.DataFrame(df_market_data_pca, columns=['PC1', 'PC2', 'PC3'])

# Copy the crypto names from the original data
crypto_names = df_market_data.index

# Set the coinid column as index
df_market_data_pca.index = crypto_names

# Display sample data
df_market_data_pca.head()








# Create a list with the number of k-values from 1 to 11
k_values = list(range(1, 12))


# Create an empty list to store the inertia values
inertia = []

# Create a for loop to compute the inertia with each possible value of k
# Inside the loop:
# 1. Create a KMeans model using the loop counter for the n_clusters
# 2. Fit the model to the data using `df_market_data_pca`
# 3. Append the model.inertia_ to the inertia list
for i in k_values:
   model = KMeans(n_clusters=i, random_state=1)
   model.fit(df_market_data_pca)
   inertia.append(model.inertia_)


# Create a dictionary with the data to plot the Elbow curve
elbow_data_pca = {'k': k_values, 'inertia': inertia}

# Create a DataFrame with the data to plot the Elbow curve
df_elbow_pca = pd.DataFrame(elbow_data_pca)
df_elbow_pca.head()


# Plot a line chart with all the inertia values computed with 
# the different values of k to visually identify the optimal value for k.
df_elbow_pca.hvplot.line(
    x='k', 
    y='inertia', 
    title='Elbow Curve using PCA Data', 
    xticks=k_values
)









# Initialise the K-Means model using the best value for k
best_k_pca = 4
kmeans_pca = KMeans(n_clusters=best_k_pca, random_state=0)


# Fit the K-Means model using the PCA data
kmeans_pca.fit(df_pca)


# Predict the clusters to group the cryptocurrencies using the PCA data
clusters_pca = kmeans_pca.predict(df_pca)

# Print the resulting array of cluster values.
print(clusters_pca)


# Create a copy of the DataFrame with the PCA data
df_pca_clustered = df_pca.copy()

# Add a new column to the DataFrame with the predicted clusters
df_pca_clustered['cluster'] = clusters_pca

# Display sample data
df_pca_clustered.head()


# Create a scatter plot using hvPlot by setting 
# `x="PC1"` and `y="PC2"`. 
# Colour the graph points with the labels found using K-Means and 
# add the crypto name in the `hover_cols` parameter to identify 
# the cryptocurrency represented by each data point.
df_pca_clustered.hvplot.scatter(
    x='PC1',
    y='PC2',
    by='cluster',
    hover_cols=['coin_id'],
    title='Cryptocurrency Clusters using PCA Data'
)


import matplotlib.pyplot as plt
# Composite plot to contrast the Elbow curves
# Define the number of clusters to compare
cluster_range = range(2, 13)

# Plotting Elbow curves
plt.figure(figsize=(12, 6))

# Plotting Elbow curve for K-means
plt.subplot(1, 2, 1)
plt.plot(cluster_range, inertia, marker='o', linestyle='-', color='b', label='K-means')
plt.xlabel('Number of Clusters')
plt.ylabel('Inertia')
plt.title('Elbow Curve for K-means Clustering')
plt.legend()

# Plotting Elbow curve for Hierarchical clustering
plt.subplot(1, 2, 2)
plt.plot(cluster_range, inertia, marker='o', linestyle='-', color='r', label='Hierarchical')
plt.xlabel('Number of Clusters')
plt.ylabel('Inertia')
plt.title('Elbow Curve for Hierarchical Clustering')
plt.legend()

plt.tight_layout()
plt.show()





# Composite plot to contrast the clusters
import matplotlib.pyplot as plt
import seaborn as sns

# Assuming you have already performed PCA and obtained X_pca
# Replace this with your actual PCA transformation step
X_pca = pca.transform(df_market_data_scaled)  # This assumes df_scaled is your scaled data

plt.figure(figsize=(12, 6))

# Plotting the clusters for K-means
plt.subplot(1, 2, 1)
sns.scatterplot(x=X_pca[:, 0], y=X_pca[:, 1], hue=kmeans.labels_, palette='viridis', legend='full')
plt.title('K-means Clustering')

# Plotting the clusters for Hierarchical clustering
plt.subplot(1, 2, 2)
sns.scatterplot(x=X_pca[:, 0], y=X_pca[:, 1], hue=hc.labels_, palette='viridis', legend='full')
plt.title('Hierarchical Clustering')

plt.tight_layout()
plt.show()






